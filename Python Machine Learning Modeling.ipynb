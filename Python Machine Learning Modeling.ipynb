{
  "nbformat": 4,
  "nbformat_minor": 0,
  "metadata": {
    "colab": {
      "name": "HW7_ZHANG_DAIXI.ipynb",
      "provenance": [],
      "collapsed_sections": [
        "7DvQpJcMXRd0"
      ],
      "toc_visible": true
    },
    "kernelspec": {
      "name": "python3",
      "display_name": "Python 3"
    },
    "language_info": {
      "name": "python"
    }
  },
  "cells": [
    {
      "cell_type": "markdown",
      "metadata": {
        "id": "YEBNn7WNVVH9"
      },
      "source": [
        "# Homework 7 (30 marks)\n",
        "Create a copy of the notebook to start answering the questions. Name your notebook in the format HW7_ZHANG_DAIXI.ipynb to facilitate the grading process.\n",
        "\n",
        "Answer all the questions, test your code to ensure there are no errors and the results are as expected. Once you have answered all the questions, save the final copy, then go to File-> click on Download.ipynb. Once the local copy has been downloaded, submit your file on Blackboard under the corresponding assignment section. Also provide us a link to your notebook during submission.\n",
        "\n",
        "NOTE: Please give the TAs the permission to access your notebooks through the links you have provided during submission.\n",
        "\n",
        "The due date of this homework is 04/23/2021 (Friday).\n",
        "\n",
        "Please ensure you follow all the steps mentioned in the homework.\n",
        "\n",
        "You can submit your solutions any number of times until the deadline.\n",
        "\n",
        "The datasets used in this homework can be found in the google drive link below -\n",
        "\n",
        "https://drive.google.com/drive/folders/1NxCh4X7u7wVo5aHojxjLNs9wC7B7zJhb?usp=sharing\n",
        "\n",
        "Follow the necessary steps to import data to test your code. You can use any method to read your data in the notebook. We will not be grading the methods you use. We will only grade the code from the point where you read the dataset into a pandas dataframe - (pd.read_csv('file_name'))"
      ]
    },
    {
      "cell_type": "markdown",
      "metadata": {
        "id": "XNkmD9GdVx37"
      },
      "source": [
        "Import all the libraries you require in the cell below.\n"
      ]
    },
    {
      "cell_type": "code",
      "metadata": {
        "id": "O38dWgFrTt9g"
      },
      "source": [
        "import pandas as pd\n",
        "import numpy as np\n",
        "from sklearn.impute import SimpleImputer\n",
        "from sklearn.preprocessing import MinMaxScaler\n",
        "# Enter your code here\n",
        "# Data Preparetion and Model Assessment\n",
        "from sklearn.metrics import classification_report, recall_score, precision_score, accuracy_score\n",
        "from sklearn.model_selection import train_test_split\n",
        "\n",
        "# Models\n",
        "from sklearn.dummy import DummyClassifier\n",
        "from sklearn.ensemble import RandomForestClassifier\n",
        "from sklearn.ensemble import BaggingClassifier\n",
        "from sklearn.tree import DecisionTreeClassifier\n",
        "from sklearn.ensemble import VotingClassifier\n",
        "from sklearn.ensemble import AdaBoostClassifier\n",
        "from sklearn.svm import SVC\n",
        "from sklearn.linear_model import LogisticRegression"
      ],
      "execution_count": 176,
      "outputs": []
    },
    {
      "cell_type": "markdown",
      "metadata": {
        "id": "HggTkCZoWOSE"
      },
      "source": [
        "## Implement the Ensemble methods learnt in class and compare their accuarcies."
      ]
    },
    {
      "cell_type": "markdown",
      "metadata": {
        "id": "g-eAjVVDV_Nm"
      },
      "source": [
        "The dataset you are going to be using for homework is the **Wisconsin Breast Cancer dataset (cancer.csv)**\n",
        "\n",
        "The dataset contains a total number of 10 features labeled in either benign or malignant classes. The features have 699 instances out of which 16 feature values are missing. The dataset only contains numeric values.\n",
        "\n",
        "Attribute Information:\n",
        "\n",
        "1. Sample code number: id number\n",
        "2. Clump Thickness: 1 - 10\n",
        "3. Uniformity of Cell Size: 1 - 10\n",
        "4. Uniformity of Cell Shape: 1 - 10\n",
        "5. Marginal Adhesion: 1 - 10\n",
        "6. Single Epithelial Cell Size: 1 - 10\n",
        "7. Bare Nuclei: 1 - 10\n",
        "8. Bland Chromatin: 1 - 10\n",
        "9. Normal Nucleoli: 1 - 10\n",
        "10. Mitoses: 1 - 10\n",
        "11. Class: (2 for benign, 4 for malignant) (**target variable**)\n",
        "\n",
        "For more information: https://archive.ics.uci.edu/ml/datasets/breast+cancer+wisconsin+(original)"
      ]
    },
    {
      "cell_type": "markdown",
      "metadata": {
        "id": "g3iLZY-gXhVH"
      },
      "source": [
        "### 1. Read the dataset into variable called '**data**' (1 mark)"
      ]
    },
    {
      "cell_type": "code",
      "metadata": {
        "id": "U2II5L3AXn2A",
        "colab": {
          "base_uri": "https://localhost:8080/",
          "height": 0
        },
        "outputId": "280afb74-bdc0-44e4-d127-758cf5030111"
      },
      "source": [
        "pd.set_option('display.max_columns', 100)\n",
        "# Enter your code here\n",
        "data = pd.read_csv(\"/content/sample_data/cancer.csv\")\n",
        "data.head()"
      ],
      "execution_count": 177,
      "outputs": [
        {
          "output_type": "execute_result",
          "data": {
            "text/html": [
              "<div>\n",
              "<style scoped>\n",
              "    .dataframe tbody tr th:only-of-type {\n",
              "        vertical-align: middle;\n",
              "    }\n",
              "\n",
              "    .dataframe tbody tr th {\n",
              "        vertical-align: top;\n",
              "    }\n",
              "\n",
              "    .dataframe thead th {\n",
              "        text-align: right;\n",
              "    }\n",
              "</style>\n",
              "<table border=\"1\" class=\"dataframe\">\n",
              "  <thead>\n",
              "    <tr style=\"text-align: right;\">\n",
              "      <th></th>\n",
              "      <th>Sample Code Number</th>\n",
              "      <th>Clump Thickness</th>\n",
              "      <th>Uniformity of Cell Size</th>\n",
              "      <th>Uniformity of Cell Shape</th>\n",
              "      <th>Marginal Adhesion</th>\n",
              "      <th>Single Epithelial Cell Size</th>\n",
              "      <th>Bland Chromatin</th>\n",
              "      <th>Bare Nuclei</th>\n",
              "      <th>Normal Nucleoli</th>\n",
              "      <th>Mitosis</th>\n",
              "      <th>Class</th>\n",
              "    </tr>\n",
              "  </thead>\n",
              "  <tbody>\n",
              "    <tr>\n",
              "      <th>0</th>\n",
              "      <td>1000025</td>\n",
              "      <td>5</td>\n",
              "      <td>1</td>\n",
              "      <td>1</td>\n",
              "      <td>1</td>\n",
              "      <td>2</td>\n",
              "      <td>1</td>\n",
              "      <td>3</td>\n",
              "      <td>1</td>\n",
              "      <td>1</td>\n",
              "      <td>2</td>\n",
              "    </tr>\n",
              "    <tr>\n",
              "      <th>1</th>\n",
              "      <td>1002945</td>\n",
              "      <td>5</td>\n",
              "      <td>4</td>\n",
              "      <td>4</td>\n",
              "      <td>5</td>\n",
              "      <td>7</td>\n",
              "      <td>10</td>\n",
              "      <td>3</td>\n",
              "      <td>2</td>\n",
              "      <td>1</td>\n",
              "      <td>2</td>\n",
              "    </tr>\n",
              "    <tr>\n",
              "      <th>2</th>\n",
              "      <td>1015425</td>\n",
              "      <td>3</td>\n",
              "      <td>1</td>\n",
              "      <td>1</td>\n",
              "      <td>1</td>\n",
              "      <td>2</td>\n",
              "      <td>2</td>\n",
              "      <td>3</td>\n",
              "      <td>1</td>\n",
              "      <td>1</td>\n",
              "      <td>2</td>\n",
              "    </tr>\n",
              "    <tr>\n",
              "      <th>3</th>\n",
              "      <td>1016277</td>\n",
              "      <td>6</td>\n",
              "      <td>8</td>\n",
              "      <td>8</td>\n",
              "      <td>1</td>\n",
              "      <td>3</td>\n",
              "      <td>4</td>\n",
              "      <td>3</td>\n",
              "      <td>7</td>\n",
              "      <td>1</td>\n",
              "      <td>2</td>\n",
              "    </tr>\n",
              "    <tr>\n",
              "      <th>4</th>\n",
              "      <td>1017023</td>\n",
              "      <td>4</td>\n",
              "      <td>1</td>\n",
              "      <td>1</td>\n",
              "      <td>3</td>\n",
              "      <td>2</td>\n",
              "      <td>1</td>\n",
              "      <td>3</td>\n",
              "      <td>1</td>\n",
              "      <td>1</td>\n",
              "      <td>2</td>\n",
              "    </tr>\n",
              "  </tbody>\n",
              "</table>\n",
              "</div>"
            ],
            "text/plain": [
              "   Sample Code Number  Clump Thickness  Uniformity of Cell Size   \\\n",
              "0             1000025                5                         1   \n",
              "1             1002945                5                         4   \n",
              "2             1015425                3                         1   \n",
              "3             1016277                6                         8   \n",
              "4             1017023                4                         1   \n",
              "\n",
              "   Uniformity of Cell Shape  Marginal Adhesion  Single Epithelial Cell Size  \\\n",
              "0                         1                  1                            2   \n",
              "1                         4                  5                            7   \n",
              "2                         1                  1                            2   \n",
              "3                         8                  1                            3   \n",
              "4                         1                  3                            2   \n",
              "\n",
              "  Bland Chromatin  Bare Nuclei  Normal Nucleoli  Mitosis  Class  \n",
              "0               1            3                1        1      2  \n",
              "1              10            3                2        1      2  \n",
              "2               2            3                1        1      2  \n",
              "3               4            3                7        1      2  \n",
              "4               1            3                1        1      2  "
            ]
          },
          "metadata": {
            "tags": []
          },
          "execution_count": 177
        }
      ]
    },
    {
      "cell_type": "markdown",
      "metadata": {
        "id": "7DvQpJcMXRd0"
      },
      "source": [
        "### **Preprocessing**: Data needs to be preprocessed before implementing ensemble methods. It is done for you here. \n",
        "### Run the below code first and then answer the questions from 2 - 7."
      ]
    },
    {
      "cell_type": "markdown",
      "metadata": {
        "id": "UDtpJLrCXdj-"
      },
      "source": [
        "#### Deleting unnecessary columns: The column \"Sample code number\" is just an indicator and it's of no use in the modeling. So, let's drop it:\n"
      ]
    },
    {
      "cell_type": "code",
      "metadata": {
        "id": "3bbOI9AYTziJ"
      },
      "source": [
        "data.drop(['Sample Code Number'],axis = 1, inplace = True)\n"
      ],
      "execution_count": 178,
      "outputs": []
    },
    {
      "cell_type": "markdown",
      "metadata": {
        "id": "uaUqMhEPYqSF"
      },
      "source": [
        "#### Handling missing values : \n",
        "As mentioned earlier, the dataset contains missing values. The column named \"Bland Chromatin\" contains them. The missing values are represneted as \"?\". \n",
        "\n",
        "Replace those \"?\"s with 0's and impute them with Mean Imputation"
      ]
    },
    {
      "cell_type": "code",
      "metadata": {
        "id": "cHu_DIDcZs_8",
        "colab": {
          "base_uri": "https://localhost:8080/"
        },
        "outputId": "9f291130-3973-450e-d8a4-56bcbe9e91f5"
      },
      "source": [
        "data['Bland Chromatin']"
      ],
      "execution_count": 179,
      "outputs": [
        {
          "output_type": "execute_result",
          "data": {
            "text/plain": [
              "0       1\n",
              "1      10\n",
              "2       2\n",
              "3       4\n",
              "4       1\n",
              "       ..\n",
              "694     2\n",
              "695     1\n",
              "696     3\n",
              "697     4\n",
              "698     5\n",
              "Name: Bland Chromatin, Length: 699, dtype: object"
            ]
          },
          "metadata": {
            "tags": []
          },
          "execution_count": 179
        }
      ]
    },
    {
      "cell_type": "code",
      "metadata": {
        "id": "u_5GSsVjU930"
      },
      "source": [
        "data.replace('?',0, inplace=True)"
      ],
      "execution_count": 180,
      "outputs": []
    },
    {
      "cell_type": "code",
      "metadata": {
        "id": "LV3PVQB0U_mF"
      },
      "source": [
        "# Convert the DataFrame object into NumPy array otherwise you will not be able to impute\n",
        "values = data.values\n",
        "# Now impute it\n",
        "imputer = SimpleImputer(missing_values=np.nan, strategy='mean')\n",
        "imputedData = imputer.fit_transform(values)"
      ],
      "execution_count": 181,
      "outputs": []
    },
    {
      "cell_type": "markdown",
      "metadata": {
        "id": "TC9xxX-MaJiJ"
      },
      "source": [
        "#### Normalizing the data:\n",
        "Ranges of the features of the dataset are not the same. This may cause a problem. A small change in a feature might not affect the other. To address this problem, normalize the ranges of the features to a uniform range, in this case, 0 - 1."
      ]
    },
    {
      "cell_type": "code",
      "metadata": {
        "id": "VomHojxET85c",
        "colab": {
          "base_uri": "https://localhost:8080/"
        },
        "outputId": "5f85656b-b5f6-4e33-a345-455f77d3b64b"
      },
      "source": [
        "scaler = MinMaxScaler(feature_range=(0, 1))\n",
        "normalizedData = scaler.fit_transform(imputedData)\n",
        "cols = ['Clump Thickness', 'Uniformity of Cell Size', 'Uniformity of Cell Shape', 'Marginal Adhesion', 'Single Epithelial Cell Size', 'Bland Chromatin', 'Bare Nuclei', 'Normal Nucleoli', 'Mitosis','Class']\n",
        "normalizedData = pd.DataFrame(normalizedData, columns=cols)\n",
        "print(normalizedData.head())"
      ],
      "execution_count": 182,
      "outputs": [
        {
          "output_type": "stream",
          "text": [
            "   Clump Thickness  Uniformity of Cell Size  Uniformity of Cell Shape  \\\n",
            "0         0.444444                 0.000000                  0.000000   \n",
            "1         0.444444                 0.333333                  0.333333   \n",
            "2         0.222222                 0.000000                  0.000000   \n",
            "3         0.555556                 0.777778                  0.777778   \n",
            "4         0.333333                 0.000000                  0.000000   \n",
            "\n",
            "   Marginal Adhesion  Single Epithelial Cell Size  Bland Chromatin  \\\n",
            "0           0.000000                     0.111111              0.1   \n",
            "1           0.444444                     0.666667              1.0   \n",
            "2           0.000000                     0.111111              0.2   \n",
            "3           0.000000                     0.222222              0.4   \n",
            "4           0.222222                     0.111111              0.1   \n",
            "\n",
            "   Bare Nuclei  Normal Nucleoli  Mitosis  Class  \n",
            "0     0.222222         0.000000      0.0    0.0  \n",
            "1     0.222222         0.111111      0.0    0.0  \n",
            "2     0.222222         0.000000      0.0    0.0  \n",
            "3     0.222222         0.666667      0.0    0.0  \n",
            "4     0.222222         0.000000      0.0    0.0  \n"
          ],
          "name": "stdout"
        }
      ]
    },
    {
      "cell_type": "markdown",
      "metadata": {
        "id": "Sb2YjZckaZ2-"
      },
      "source": [
        "### Data preprocessing is done and now you will answer the below questions using the **normalizedData**: "
      ]
    },
    {
      "cell_type": "markdown",
      "metadata": {
        "id": "Cq2ChemrbDz2"
      },
      "source": [
        "### 2. Split the data into test and training data with test size - 30%. Compute the baseline classification accuracy for X_train. (3 marks)"
      ]
    },
    {
      "cell_type": "code",
      "metadata": {
        "colab": {
          "base_uri": "https://localhost:8080/",
          "height": 221
        },
        "id": "ZoJk61uzdAjk",
        "outputId": "96b1f37a-87ab-45f2-80f2-07de129fa9f0"
      },
      "source": [
        "normalizedData.head()"
      ],
      "execution_count": 183,
      "outputs": [
        {
          "output_type": "execute_result",
          "data": {
            "text/html": [
              "<div>\n",
              "<style scoped>\n",
              "    .dataframe tbody tr th:only-of-type {\n",
              "        vertical-align: middle;\n",
              "    }\n",
              "\n",
              "    .dataframe tbody tr th {\n",
              "        vertical-align: top;\n",
              "    }\n",
              "\n",
              "    .dataframe thead th {\n",
              "        text-align: right;\n",
              "    }\n",
              "</style>\n",
              "<table border=\"1\" class=\"dataframe\">\n",
              "  <thead>\n",
              "    <tr style=\"text-align: right;\">\n",
              "      <th></th>\n",
              "      <th>Clump Thickness</th>\n",
              "      <th>Uniformity of Cell Size</th>\n",
              "      <th>Uniformity of Cell Shape</th>\n",
              "      <th>Marginal Adhesion</th>\n",
              "      <th>Single Epithelial Cell Size</th>\n",
              "      <th>Bland Chromatin</th>\n",
              "      <th>Bare Nuclei</th>\n",
              "      <th>Normal Nucleoli</th>\n",
              "      <th>Mitosis</th>\n",
              "      <th>Class</th>\n",
              "    </tr>\n",
              "  </thead>\n",
              "  <tbody>\n",
              "    <tr>\n",
              "      <th>0</th>\n",
              "      <td>0.444444</td>\n",
              "      <td>0.000000</td>\n",
              "      <td>0.000000</td>\n",
              "      <td>0.000000</td>\n",
              "      <td>0.111111</td>\n",
              "      <td>0.1</td>\n",
              "      <td>0.222222</td>\n",
              "      <td>0.000000</td>\n",
              "      <td>0.0</td>\n",
              "      <td>0.0</td>\n",
              "    </tr>\n",
              "    <tr>\n",
              "      <th>1</th>\n",
              "      <td>0.444444</td>\n",
              "      <td>0.333333</td>\n",
              "      <td>0.333333</td>\n",
              "      <td>0.444444</td>\n",
              "      <td>0.666667</td>\n",
              "      <td>1.0</td>\n",
              "      <td>0.222222</td>\n",
              "      <td>0.111111</td>\n",
              "      <td>0.0</td>\n",
              "      <td>0.0</td>\n",
              "    </tr>\n",
              "    <tr>\n",
              "      <th>2</th>\n",
              "      <td>0.222222</td>\n",
              "      <td>0.000000</td>\n",
              "      <td>0.000000</td>\n",
              "      <td>0.000000</td>\n",
              "      <td>0.111111</td>\n",
              "      <td>0.2</td>\n",
              "      <td>0.222222</td>\n",
              "      <td>0.000000</td>\n",
              "      <td>0.0</td>\n",
              "      <td>0.0</td>\n",
              "    </tr>\n",
              "    <tr>\n",
              "      <th>3</th>\n",
              "      <td>0.555556</td>\n",
              "      <td>0.777778</td>\n",
              "      <td>0.777778</td>\n",
              "      <td>0.000000</td>\n",
              "      <td>0.222222</td>\n",
              "      <td>0.4</td>\n",
              "      <td>0.222222</td>\n",
              "      <td>0.666667</td>\n",
              "      <td>0.0</td>\n",
              "      <td>0.0</td>\n",
              "    </tr>\n",
              "    <tr>\n",
              "      <th>4</th>\n",
              "      <td>0.333333</td>\n",
              "      <td>0.000000</td>\n",
              "      <td>0.000000</td>\n",
              "      <td>0.222222</td>\n",
              "      <td>0.111111</td>\n",
              "      <td>0.1</td>\n",
              "      <td>0.222222</td>\n",
              "      <td>0.000000</td>\n",
              "      <td>0.0</td>\n",
              "      <td>0.0</td>\n",
              "    </tr>\n",
              "  </tbody>\n",
              "</table>\n",
              "</div>"
            ],
            "text/plain": [
              "   Clump Thickness  Uniformity of Cell Size  Uniformity of Cell Shape  \\\n",
              "0         0.444444                 0.000000                  0.000000   \n",
              "1         0.444444                 0.333333                  0.333333   \n",
              "2         0.222222                 0.000000                  0.000000   \n",
              "3         0.555556                 0.777778                  0.777778   \n",
              "4         0.333333                 0.000000                  0.000000   \n",
              "\n",
              "   Marginal Adhesion  Single Epithelial Cell Size  Bland Chromatin  \\\n",
              "0           0.000000                     0.111111              0.1   \n",
              "1           0.444444                     0.666667              1.0   \n",
              "2           0.000000                     0.111111              0.2   \n",
              "3           0.000000                     0.222222              0.4   \n",
              "4           0.222222                     0.111111              0.1   \n",
              "\n",
              "   Bare Nuclei  Normal Nucleoli  Mitosis  Class  \n",
              "0     0.222222         0.000000      0.0    0.0  \n",
              "1     0.222222         0.111111      0.0    0.0  \n",
              "2     0.222222         0.000000      0.0    0.0  \n",
              "3     0.222222         0.666667      0.0    0.0  \n",
              "4     0.222222         0.000000      0.0    0.0  "
            ]
          },
          "metadata": {
            "tags": []
          },
          "execution_count": 183
        }
      ]
    },
    {
      "cell_type": "code",
      "metadata": {
        "id": "gOshE9K_UA5S"
      },
      "source": [
        "# Enter your code here\n",
        "X = normalizedData.iloc[:,:9].values\n",
        "y = normalizedData[\"Class\"].values\n",
        "X_train, X_test, y_train, y_test = train_test_split(X,y,test_size = 0.3, stratify=y)\n"
      ],
      "execution_count": 184,
      "outputs": []
    },
    {
      "cell_type": "code",
      "metadata": {
        "colab": {
          "base_uri": "https://localhost:8080/"
        },
        "id": "8N8uevYJgNcE",
        "outputId": "5008d55e-a867-4d03-97cb-2208de97ea15"
      },
      "source": [
        "dummy_model = DummyClassifier(strategy='most_frequent')\n",
        "dummy_model.fit(X_train,y_train)\n",
        "baseline_pred = dummy_model.predict(X_test)\n",
        "baseline_accuracy = accuracy_score(y_test,baseline_pred)\n",
        "print(\"Baseline Accuracy is:\", baseline_accuracy)"
      ],
      "execution_count": 185,
      "outputs": [
        {
          "output_type": "stream",
          "text": [
            "Baseline Accuracy is: 0.6571428571428571\n"
          ],
          "name": "stdout"
        }
      ]
    },
    {
      "cell_type": "markdown",
      "metadata": {
        "id": "J3RUF9RvgA-N"
      },
      "source": [
        "### 3.  Bagging : Build a generic Bagging ensemble and print the accuracy (4 marks)\n",
        "---\n",
        "\n",
        "\n",
        "Hyperparameters:\n",
        "\n",
        "Base estimator = DecisionTreeClassifier\n",
        "\n",
        "n_estimators = 10\n",
        "\n",
        "random_state = 42\n",
        "\n",
        "---\n"
      ]
    },
    {
      "cell_type": "code",
      "metadata": {
        "id": "C78-znrIUDcs",
        "colab": {
          "base_uri": "https://localhost:8080/"
        },
        "outputId": "5ebea02c-88df-4f0f-a0fc-347ca2a8fd38"
      },
      "source": [
        "# Generic Bagging model\n",
        "# Enter your code here\n",
        "decision_tree_model = DecisionTreeClassifier()\n",
        "bagging_model = BaggingClassifier(base_estimator= decision_tree_model, n_estimators=10, random_state=42)\n",
        "bagging_model.fit(X_train,y_train)"
      ],
      "execution_count": 186,
      "outputs": [
        {
          "output_type": "execute_result",
          "data": {
            "text/plain": [
              "BaggingClassifier(base_estimator=DecisionTreeClassifier(ccp_alpha=0.0,\n",
              "                                                        class_weight=None,\n",
              "                                                        criterion='gini',\n",
              "                                                        max_depth=None,\n",
              "                                                        max_features=None,\n",
              "                                                        max_leaf_nodes=None,\n",
              "                                                        min_impurity_decrease=0.0,\n",
              "                                                        min_impurity_split=None,\n",
              "                                                        min_samples_leaf=1,\n",
              "                                                        min_samples_split=2,\n",
              "                                                        min_weight_fraction_leaf=0.0,\n",
              "                                                        presort='deprecated',\n",
              "                                                        random_state=None,\n",
              "                                                        splitter='best'),\n",
              "                  bootstrap=True, bootstrap_features=False, max_features=1.0,\n",
              "                  max_samples=1.0, n_estimators=10, n_jobs=None,\n",
              "                  oob_score=False, random_state=42, verbose=0,\n",
              "                  warm_start=False)"
            ]
          },
          "metadata": {
            "tags": []
          },
          "execution_count": 186
        }
      ]
    },
    {
      "cell_type": "code",
      "metadata": {
        "colab": {
          "base_uri": "https://localhost:8080/"
        },
        "id": "LRfoIxVShNNL",
        "outputId": "1d62ce61-f967-4271-8580-0a42f8d41305"
      },
      "source": [
        "Bagging_pred = bagging_model.predict(X_test)\n",
        "Bagging_Model_accuracy = accuracy_score(y_test,Bagging_pred)\n",
        "print(\"Bagging Model Accuracy is:\", Bagging_Model_accuracy)\n",
        "#print(classification_report(y_test,Bagging_pred))"
      ],
      "execution_count": 187,
      "outputs": [
        {
          "output_type": "stream",
          "text": [
            "Bagging Model Accuracy is: 0.9476190476190476\n"
          ],
          "name": "stdout"
        }
      ]
    },
    {
      "cell_type": "markdown",
      "metadata": {
        "id": "mlupszlqg6El"
      },
      "source": [
        "### 4. RandomForest : (7 marks)\n",
        "#### a) Build a Random Forest model and print the accuracy (4 marks)\n",
        "---\n",
        "\n",
        "Constructor arguments: \n",
        "\n",
        "\n",
        "n_estimators = 100, max_features = 7 and random_state = 42 \n",
        "\n",
        "\n",
        "---\n",
        "\n",
        "\n"
      ]
    },
    {
      "cell_type": "code",
      "metadata": {
        "colab": {
          "base_uri": "https://localhost:8080/"
        },
        "id": "TagawD02hKlF",
        "outputId": "b8407793-d815-41ad-b9a8-fd389f978ddc"
      },
      "source": [
        "# Random Forest model\n",
        "# Enter your code here\n",
        "rf_model = RandomForestClassifier(n_estimators = 100, max_features = 7 , random_state = 42) \n",
        "rf_model.fit(X_train,y_train)\n",
        "rf_pred = rf_model.predict(X_test)\n",
        "rf_Model_accuracy = accuracy_score(y_test,rf_pred)\n",
        "print(\"Random Forest Accuracy is:\", rf_Model_accuracy )\n",
        "#print(classification_report(y_test,rf_pred))"
      ],
      "execution_count": 188,
      "outputs": [
        {
          "output_type": "stream",
          "text": [
            "Random Forest Accuracy is: 0.9523809523809523\n"
          ],
          "name": "stdout"
        }
      ]
    },
    {
      "cell_type": "markdown",
      "metadata": {
        "id": "48iH9eV8xkbE"
      },
      "source": [
        "####  b) Calculate the top 3 important features for the above **RandomForest** model and print them (3 marks)"
      ]
    },
    {
      "cell_type": "code",
      "metadata": {
        "id": "M469DqsQxlFN",
        "colab": {
          "base_uri": "https://localhost:8080/"
        },
        "outputId": "9a103239-a497-4bcd-e674-1f930f49d2ee"
      },
      "source": [
        "# Top 3 features for RandomForest\n",
        "# Enter your code here\n",
        "\n",
        "important_features = rf_model.feature_importances_\n",
        "features_name = data.iloc[:,:9].columns\n",
        "imp_feature_frame = pd.DataFrame({'features': features_name, 'importance': important_features}).sort_values(by = \"importance\", ascending =False).iloc[0:3,:]\n",
        "print(imp_feature_frame)\n",
        "print(list(imp_feature_frame.features))\n"
      ],
      "execution_count": 189,
      "outputs": [
        {
          "output_type": "stream",
          "text": [
            "                   features  importance\n",
            "2  Uniformity of Cell Shape    0.345950\n",
            "5           Bland Chromatin    0.306016\n",
            "1  Uniformity of Cell Size     0.178360\n",
            "['Uniformity of Cell Shape', 'Bland Chromatin', 'Uniformity of Cell Size ']\n"
          ],
          "name": "stdout"
        }
      ]
    },
    {
      "cell_type": "markdown",
      "metadata": {
        "id": "rnrkSasYh6gF"
      },
      "source": [
        "### 5. Boosting: (7 marks)\n",
        "#### a) Build an AdaBoost model with training data and print the accuracy (4 marks)\n",
        "---\n",
        "\n",
        "Hyperparameters:\n",
        "\n",
        "Base estimator = DecisionTreeClassifier, max_depth = 4\n",
        "\n",
        "n_estimators = 200\n",
        "\n",
        "random_state = 42\n",
        "\n",
        "learning_rate = 0.05\n",
        "\n",
        "\n",
        "---\n",
        "\n",
        "\n",
        "\n",
        "\n",
        "\n",
        "\n",
        "\n"
      ]
    },
    {
      "cell_type": "code",
      "metadata": {
        "id": "DQIzaUjWUHv7",
        "colab": {
          "base_uri": "https://localhost:8080/"
        },
        "outputId": "d896215a-f84f-43b7-e6c8-d1ea62b51fb5"
      },
      "source": [
        "# AdaBoost Classification\n",
        "# Enter your code here\n",
        "\n",
        "base_dt = DecisionTreeClassifier(max_depth =4)\n",
        "ada_boost_model = AdaBoostClassifier(base_estimator= base_dt, n_estimators=200, random_state=42, learning_rate=.05)\n",
        "ada_boost_model.fit(X_train, y_train)\n",
        "ada_predict = ada_boost_model.predict(X_test)\n",
        "print(\"AdaBoost Classification's Accuracy is:\", accuracy_score(y_test, ada_predict))\n"
      ],
      "execution_count": 190,
      "outputs": [
        {
          "output_type": "stream",
          "text": [
            "AdaBoost Classification's Accuracy is: 0.9523809523809523\n"
          ],
          "name": "stdout"
        }
      ]
    },
    {
      "cell_type": "markdown",
      "metadata": {
        "id": "usBQDazfw2L1"
      },
      "source": [
        "#### b) Calculate the top 3 important features for the above **AdaBoost** model and print them (3 marks)"
      ]
    },
    {
      "cell_type": "code",
      "metadata": {
        "id": "jbEUjwQRw3rW",
        "colab": {
          "base_uri": "https://localhost:8080/"
        },
        "outputId": "5dbc36a4-7228-49e6-b071-86e9e779fa05"
      },
      "source": [
        "# Top 3 features for AdaBoost\n",
        "# Enter your code here\n",
        "\n",
        "important_features2 = ada_boost_model.feature_importances_\n",
        "features_name = data.iloc[:,:9].columns\n",
        "imp_feature_frame2 = pd.DataFrame({'features': features_name, 'importance': important_features2}).sort_values(by = \"importance\", ascending =False).iloc[0:3,:]\n",
        "print(imp_feature_frame2)\n",
        "print(list(imp_feature_frame.features))"
      ],
      "execution_count": 191,
      "outputs": [
        {
          "output_type": "stream",
          "text": [
            "                   features  importance\n",
            "6               Bare Nuclei    0.353421\n",
            "2  Uniformity of Cell Shape    0.139991\n",
            "1  Uniformity of Cell Size     0.137421\n",
            "['Uniformity of Cell Shape', 'Bland Chromatin', 'Uniformity of Cell Size ']\n"
          ],
          "name": "stdout"
        }
      ]
    },
    {
      "cell_type": "markdown",
      "metadata": {
        "id": "zMpdvP7ZjAOt"
      },
      "source": [
        "### 6. Voting : Using a voting classifier, build an ensemble of RandomForestClassifier, DecisionTreeClassifier, Support Vector Machine and Logistic Regression. (7 marks)\n",
        "\n",
        "\n",
        "---\n",
        "\n",
        "\n",
        "Use max_depth = 4, n_estimators = 200, voting = soft"
      ]
    },
    {
      "cell_type": "code",
      "metadata": {
        "id": "3M3ZIcrqUKjK",
        "colab": {
          "base_uri": "https://localhost:8080/"
        },
        "outputId": "a814867a-2bf1-4a05-c04d-b10ec1b9ae82"
      },
      "source": [
        "# Voting Ensemble for Classification\n",
        "# Enter your code here\n",
        "dt = DecisionTreeClassifier(max_depth = 4)\n",
        "rf = RandomForestClassifier( n_estimators = 200)\n",
        "svm = SVC(probability=True)\n",
        "lr= LogisticRegression()\n",
        "classifiers = [(\"RandomForestClassifier\", rf), (\"DecisionTreeClassifier\", dt), (\"Support Vector Machine\",svm),(\"Logistic Regression\", lr) ]\n",
        "vc = VotingClassifier(estimators=classifiers, voting = \"soft\")\n",
        "vc.fit(X_train, y_train)\n",
        "vc_pred = vc.predict(X_test)\n",
        "vc_Model_accuracy = accuracy_score(y_test,vc_pred)\n",
        "print(\"Voting Classifer Accuracy is:\", vc_Model_accuracy)"
      ],
      "execution_count": 192,
      "outputs": [
        {
          "output_type": "stream",
          "text": [
            "Voting Classifer Accuracy is: 0.9619047619047619\n"
          ],
          "name": "stdout"
        }
      ]
    },
    {
      "cell_type": "markdown",
      "metadata": {
        "id": "Wj2CVbBYVTun"
      },
      "source": [
        "### 7. Mention the best model among the above 4 models and its accuracy (1 mark)"
      ]
    },
    {
      "cell_type": "code",
      "metadata": {
        "id": "gj09m4z_lXNB",
        "colab": {
          "base_uri": "https://localhost:8080/",
          "height": 190
        },
        "outputId": "7da2ea79-6877-44ff-c44b-ae0fc648aa9f"
      },
      "source": [
        "# Write your answer here\n",
        "dict_accuracy = {\"Model\":[\"Voting Classifier\",\"AdaBoost Classifier\",\"Random Forest Classifier\",\"Bagging Classifier\"],\n",
        "                 \"Accuracy\":[vc_Model_accuracy,accuracy_score(y_test, ada_predict),rf_Model_accuracy,Bagging_Model_accuracy]}\n",
        "\n",
        "df_acc = pd.DataFrame(dict_accuracy).sort_values(by=\"Accuracy\",ascending= False)\n",
        "\n",
        "print(\"The best model among the above 4 models is Voting Classifer model and its accuracy score is:\", vc_Model_accuracy)\n",
        "df_acc"
      ],
      "execution_count": 196,
      "outputs": [
        {
          "output_type": "stream",
          "text": [
            "The best model among the above 4 models is Voting Classifer model and its accuracy score is: 0.9619047619047619\n"
          ],
          "name": "stdout"
        },
        {
          "output_type": "execute_result",
          "data": {
            "text/html": [
              "<div>\n",
              "<style scoped>\n",
              "    .dataframe tbody tr th:only-of-type {\n",
              "        vertical-align: middle;\n",
              "    }\n",
              "\n",
              "    .dataframe tbody tr th {\n",
              "        vertical-align: top;\n",
              "    }\n",
              "\n",
              "    .dataframe thead th {\n",
              "        text-align: right;\n",
              "    }\n",
              "</style>\n",
              "<table border=\"1\" class=\"dataframe\">\n",
              "  <thead>\n",
              "    <tr style=\"text-align: right;\">\n",
              "      <th></th>\n",
              "      <th>Model</th>\n",
              "      <th>Accuracy</th>\n",
              "    </tr>\n",
              "  </thead>\n",
              "  <tbody>\n",
              "    <tr>\n",
              "      <th>0</th>\n",
              "      <td>Voting Classifier</td>\n",
              "      <td>0.961905</td>\n",
              "    </tr>\n",
              "    <tr>\n",
              "      <th>1</th>\n",
              "      <td>AdaBoost Classifier</td>\n",
              "      <td>0.952381</td>\n",
              "    </tr>\n",
              "    <tr>\n",
              "      <th>2</th>\n",
              "      <td>Random Forest Classifier</td>\n",
              "      <td>0.952381</td>\n",
              "    </tr>\n",
              "    <tr>\n",
              "      <th>3</th>\n",
              "      <td>Bagging Classifier</td>\n",
              "      <td>0.947619</td>\n",
              "    </tr>\n",
              "  </tbody>\n",
              "</table>\n",
              "</div>"
            ],
            "text/plain": [
              "                      Model  Accuracy\n",
              "0         Voting Classifier  0.961905\n",
              "1       AdaBoost Classifier  0.952381\n",
              "2  Random Forest Classifier  0.952381\n",
              "3        Bagging Classifier  0.947619"
            ]
          },
          "metadata": {
            "tags": []
          },
          "execution_count": 196
        }
      ]
    }
  ]
}